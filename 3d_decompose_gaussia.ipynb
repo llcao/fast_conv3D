{
 "cells": [
  {
   "cell_type": "code",
   "execution_count": 1,
   "metadata": {
    "collapsed": true
   },
   "outputs": [],
   "source": [
    "import numpy as np"
   ]
  },
  {
   "cell_type": "markdown",
   "metadata": {},
   "source": [
    "# column-based gaussian filter"
   ]
  },
  {
   "cell_type": "code",
   "execution_count": 2,
   "metadata": {
    "collapsed": false
   },
   "outputs": [
    {
     "name": "stdout",
     "output_type": "stream",
     "text": [
      "(1, 3)\n",
      "[[ 0.25  0.5   0.25]]\n"
     ]
    }
   ],
   "source": [
    "a = np.array([[1, 2, 1]])/4.0\n",
    "print a.shape\n",
    "print a"
   ]
  },
  {
   "cell_type": "markdown",
   "metadata": {},
   "source": [
    "# 2D gaussian filter = row-based gaussian * column based gaussian"
   ]
  },
  {
   "cell_type": "code",
   "execution_count": 3,
   "metadata": {
    "collapsed": false
   },
   "outputs": [
    {
     "name": "stdout",
     "output_type": "stream",
     "text": [
      "(3, 3)\n",
      "[[ 0.0625  0.125   0.0625]\n",
      " [ 0.125   0.25    0.125 ]\n",
      " [ 0.0625  0.125   0.0625]]\n"
     ]
    }
   ],
   "source": [
    "a2d = np.dot(a.T, a)\n",
    "print a2d.shape\n",
    "print a2d"
   ]
  },
  {
   "cell_type": "markdown",
   "metadata": {},
   "source": [
    "# 3D gaussian filter"
   ]
  },
  {
   "cell_type": "code",
   "execution_count": 4,
   "metadata": {
    "collapsed": false
   },
   "outputs": [
    {
     "name": "stdout",
     "output_type": "stream",
     "text": [
      "(3, 3, 3)\n",
      "[[[ 0.015625  0.03125   0.015625]\n",
      "  [ 0.03125   0.0625    0.03125 ]\n",
      "  [ 0.015625  0.03125   0.015625]]\n",
      "\n",
      " [[ 0.03125   0.0625    0.03125 ]\n",
      "  [ 0.0625    0.125     0.0625  ]\n",
      "  [ 0.03125   0.0625    0.03125 ]]\n",
      "\n",
      " [[ 0.015625  0.03125   0.015625]\n",
      "  [ 0.03125   0.0625    0.03125 ]\n",
      "  [ 0.015625  0.03125   0.015625]]]\n"
     ]
    }
   ],
   "source": [
    "a3d =  np.dot(a2d[:,:, np.newaxis], a)\n",
    "print a3d.shape\n",
    "print a3d"
   ]
  },
  {
   "cell_type": "code",
   "execution_count": null,
   "metadata": {
    "collapsed": true
   },
   "outputs": [],
   "source": []
  }
 ],
 "metadata": {
  "kernelspec": {
   "display_name": "Python 2",
   "language": "python",
   "name": "python2"
  },
  "language_info": {
   "codemirror_mode": {
    "name": "ipython",
    "version": 2
   },
   "file_extension": ".py",
   "mimetype": "text/x-python",
   "name": "python",
   "nbconvert_exporter": "python",
   "pygments_lexer": "ipython2",
   "version": "2.7.10"
  }
 },
 "nbformat": 4,
 "nbformat_minor": 0
}
